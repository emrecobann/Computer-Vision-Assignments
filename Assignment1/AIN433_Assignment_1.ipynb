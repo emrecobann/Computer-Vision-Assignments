{
 "cells": [
  {
   "cell_type": "code",
   "execution_count": 73,
   "metadata": {
    "collapsed": false,
    "jupyter": {
     "outputs_hidden": false
    }
   },
   "outputs": [],
   "source": [
    "import random\n",
    "\n",
    "import cv2\n",
    "import numpy as np\n",
    "from PIL import Image\n",
    "import os\n",
    "import matplotlib.pyplot as plt\n",
    "import pandas as pd\n",
    "from sklearn.metrics import classification_report,  confusion_matrix\n",
    "import seaborn as sns\n",
    "import warnings\n",
    "from sklearn.cluster import KMeans\n",
    "from sklearn.metrics import silhouette_score\n",
    "\n",
    "warnings.filterwarnings(\"ignore\")\n"
   ]
  },
  {
   "cell_type": "markdown",
   "metadata": {
    "collapsed": false,
    "jupyter": {
     "outputs_hidden": false
    }
   },
   "source": [
    "# Part 1"
   ]
  },
  {
   "cell_type": "code",
   "execution_count": 74,
   "metadata": {
    "collapsed": false,
    "jupyter": {
     "outputs_hidden": false
    }
   },
   "outputs": [
    {
     "name": "stdout",
     "output_type": "stream",
     "text": [
      "Shape of the image data array: (65536, 11)\n"
     ]
    }
   ],
   "source": [
    "# Reading images\n",
    "root_path = \"C:\\\\Users\\\\user\\\\PycharmProjects\\\\pythonProject\\\\Dataset1\"\n",
    "image_data = []  # List to store image data\n",
    "\n",
    "# Iterate through files in the specified directory\n",
    "for file in os.listdir(root_path):\n",
    "    # Read image and convert it to a NumPy array\n",
    "    image = np.array(Image.open(os.path.join(root_path, file)))\n",
    "\n",
    "    # Flatten the image and append it to the list\n",
    "    image_data.append(image.flatten())\n",
    "\n",
    "# Convert the list of flattened images to a NumPy array\n",
    "M = np.array(image_data).T  # Transpose to change shape from 11x65536 to 65536x11\n",
    "\n",
    "# Print the shape of the array\n",
    "print(\"Shape of the image data array:\", M.shape)"
   ]
  },
  {
   "cell_type": "code",
   "execution_count": 75,
   "metadata": {
    "collapsed": false,
    "jupyter": {
     "outputs_hidden": false
    }
   },
   "outputs": [
    {
     "name": "stdout",
     "output_type": "stream",
     "text": [
      "Shape of img_means (1, 11)\n"
     ]
    }
   ],
   "source": [
    "# Calculate the mean of each image along the axis 0 (column-wise)\n",
    "img_means = M.mean(axis=0)\n",
    "\n",
    "# Reshape the mean array to correct format (1 row, as many columns as images)\n",
    "img_means = img_means.reshape(1, -1)\n",
    "\n",
    "print(f\"Shape of img_means {img_means.shape}\")"
   ]
  },
  {
   "cell_type": "code",
   "execution_count": 76,
   "metadata": {
    "collapsed": false,
    "jupyter": {
     "outputs_hidden": false
    }
   },
   "outputs": [
    {
     "name": "stdout",
     "output_type": "stream",
     "text": [
      "Shape of normalized imgs (65536, 11)\n"
     ]
    }
   ],
   "source": [
    "# Subtract the mean of each image from the original image data\n",
    "D = M - img_means\n",
    "\n",
    "print(f\"Shape of normalized imgs {D.shape}\")"
   ]
  },
  {
   "cell_type": "code",
   "execution_count": 77,
   "metadata": {
    "collapsed": false,
    "jupyter": {
     "outputs_hidden": false
    }
   },
   "outputs": [
    {
     "name": "stdout",
     "output_type": "stream",
     "text": [
      "Shape of the covariance matrix: (11, 11)\n"
     ]
    }
   ],
   "source": [
    "# Calculate the sample covariance matrix\n",
    "covar_matrix = np.dot(D.T, D)\n",
    "\n",
    "# Print the shape of the covariance matrix\n",
    "print(\"Shape of the covariance matrix:\", covar_matrix.shape)"
   ]
  },
  {
   "cell_type": "code",
   "execution_count": 78,
   "metadata": {
    "collapsed": false,
    "jupyter": {
     "outputs_hidden": false
    }
   },
   "outputs": [
    {
     "name": "stdout",
     "output_type": "stream",
     "text": [
      "Eigenvalues: [6.45269237e+09 3.61788877e+08 1.55372492e+08 1.21129684e+08\n",
      " 9.91281765e+07 2.90717822e+07 7.96245923e+07 6.86769042e+07\n",
      " 5.41515771e+07 4.31537980e+07 4.82669661e+07]\n",
      "Shape of Eigenvectors Matrix: (11, 11)\n"
     ]
    }
   ],
   "source": [
    "# Calculate eigenvalues and eigenvectors of the covariance matrix\n",
    "eigen_values, eigen_vectors = np.linalg.eig(covar_matrix)\n",
    "\n",
    "# Print the eigenvalues and the shape of the eigenvectors\n",
    "print(\"Eigenvalues:\", eigen_values)\n",
    "print(\"Shape of Eigenvectors Matrix:\", eigen_vectors.shape)\n"
   ]
  },
  {
   "cell_type": "code",
   "execution_count": 79,
   "metadata": {
    "collapsed": false,
    "jupyter": {
     "outputs_hidden": false
    }
   },
   "outputs": [
    {
     "name": "stdout",
     "output_type": "stream",
     "text": [
      "Shape of Selected Eigenvectors Matrix: (11, 3)\n"
     ]
    }
   ],
   "source": [
    "# Sort eigenvectors according to eigenvalues in descending order\n",
    "sorted_indices = np.argsort(eigen_values)[::-1]\n",
    "sorted_eigenvalues = eigen_values[sorted_indices]\n",
    "sorted_eigenvectors = eigen_vectors[:, sorted_indices]\n",
    "\n",
    "# Choose the first n eigenvectors (for example, n=3 in this case)\n",
    "n = 3\n",
    "selected_eigenvectors = sorted_eigenvectors[:, :n]\n",
    "\n",
    "# Print the shape of the selected eigenvectors\n",
    "print(\"Shape of Selected Eigenvectors Matrix:\", selected_eigenvectors.shape)"
   ]
  },
  {
   "cell_type": "code",
   "execution_count": 80,
   "metadata": {
    "collapsed": false,
    "jupyter": {
     "outputs_hidden": false
    }
   },
   "outputs": [
    {
     "name": "stdout",
     "output_type": "stream",
     "text": [
      "Shape of the Projection Matrix I: (65536, 3)\n"
     ]
    }
   ],
   "source": [
    "# Getting projection matrix via matrix multiplication of normalized images and eigenvectors\n",
    "I = np.dot(D, selected_eigenvectors)\n",
    "\n",
    "# Print the shape of the projection matrix\n",
    "print(\"Shape of the Projection Matrix I:\", I.shape)"
   ]
  },
  {
   "cell_type": "code",
   "execution_count": 81,
   "metadata": {
    "collapsed": false,
    "jupyter": {
     "outputs_hidden": false
    }
   },
   "outputs": [
    {
     "name": "stdout",
     "output_type": "stream",
     "text": [
      "Shape of Compressed Images Matrix: (3, 11)\n"
     ]
    }
   ],
   "source": [
    "# Compressing all images from 11x65536 to 3x11 using the projection matrix\n",
    "compressed_images = np.dot(I.T, D)\n",
    "\n",
    "# Print the shape of the compressed images\n",
    "print(\"Shape of Compressed Images Matrix:\", compressed_images.shape)"
   ]
  },
  {
   "cell_type": "code",
   "execution_count": 82,
   "metadata": {
    "collapsed": false,
    "jupyter": {
     "outputs_hidden": false
    }
   },
   "outputs": [
    {
     "name": "stdout",
     "output_type": "stream",
     "text": [
      "Values of the Compressed Image: [ 1.92019607e+09 -7.46241818e+07 -2.38975002e+07]\n"
     ]
    },
    {
     "data": {
      "text/plain": "<Figure size 640x480 with 1 Axes>",
      "image/png": "[encoded data removed]"
     },
     "metadata": {},
     "output_type": "display_data"
    }
   ],
   "source": [
    "# Display an example of a compressed image (may not make sense with just 3 features)\n",
    "example_compressed_image = compressed_images.T[0].reshape(1, 3)\n",
    "# Display the compressed image using matplotlib\n",
    "plt.imshow(example_compressed_image)\n",
    "plt.savefig(\"example_compressed.jpg\")\n",
    "\n",
    "# Print the values of the compressed image\n",
    "print(\"Values of the Compressed Image:\", compressed_images.T[0])"
   ]
  },
  {
   "cell_type": "markdown",
   "metadata": {
    "collapsed": false,
    "jupyter": {
     "outputs_hidden": false
    }
   },
   "source": [
    "# Part 2"
   ]
  },
  {
   "cell_type": "code",
   "execution_count": 83,
   "metadata": {
    "collapsed": false,
    "jupyter": {
     "outputs_hidden": false
    }
   },
   "outputs": [],
   "source": [
    "def extract_color_histogram(image):\n",
    "    \"\"\"\n",
    "    Extracts color histograms for each color channel (R, G, B) from the input image.\n",
    "\n",
    "    Parameters:\n",
    "    - image: NumPy array representing the image.\n",
    "\n",
    "    Returns:\n",
    "    Tuple of histograms for each color channel (histogram_R, histogram_G, histogram_B).\n",
    "    \"\"\"\n",
    "    # Initialize histograms for each color channel (R, G, B)\n",
    "    histogram_R = np.zeros(256, dtype=int)\n",
    "    histogram_G = np.zeros(256, dtype=int)\n",
    "    histogram_B = np.zeros(256, dtype=int)\n",
    "\n",
    "    # Iterate through the image and update channel-specific bin counts\n",
    "    for row in image:\n",
    "        for pixel in row:\n",
    "            r, g, b = pixel  # Extract RGB values\n",
    "            histogram_R[r] += 1\n",
    "            histogram_G[g] += 1\n",
    "            histogram_B[b] += 1\n",
    "\n",
    "    return histogram_R, histogram_G, histogram_B\n",
    "\n",
    "\n",
    "def calculate_distances(query_data, database_data):\n",
    "    \"\"\"\n",
    "    Calculates Euclidean distances between each query feature and each database feature.\n",
    "\n",
    "    Parameters:\n",
    "    - query_data: List of tuples containing query features and labels.\n",
    "    - database_data: List of tuples containing database features and labels.\n",
    "\n",
    "    Returns:\n",
    "    Tuple of distances and indices of similar images.\n",
    "    \"\"\"\n",
    "    distances = []\n",
    "    indices_of_similar_images = []\n",
    "\n",
    "    for query_feature, query_label in query_data:\n",
    "        for database_feature, database_label in database_data:\n",
    "            # Calculate Euclidean distance between the query feature and the database feature\n",
    "            distance = np.sqrt(np.sum((query_feature - database_feature) ** 2))\n",
    "            distances.append(distance)\n",
    "            indices_of_similar_images.append(database_label)\n",
    "\n",
    "    return distances, indices_of_similar_images\n",
    "\n",
    "\n",
    "\n",
    "def generate_ranked_list(query_data, database_data, top_k=30):\n",
    "    \"\"\"\n",
    "    Generates a ranked list of results based on distances between query and database features.\n",
    "\n",
    "    Parameters:\n",
    "    - query_data: List of tuples containing query features and labels.\n",
    "    - database_data: List of tuples containing database features and labels.\n",
    "    - top_k: Number of top results to retrieve (default is 30).\n",
    "\n",
    "    Returns:\n",
    "    List of tuples containing distances, class indices, and class labels for the top-k results.\n",
    "    \"\"\"\n",
    "    distances, indices_of_similar_images = calculate_distances(query_data, database_data)\n",
    "\n",
    "    # Create a list of tuples containing distances, class indices, and class labels\n",
    "    ranked_results = [(distances[i], indices_of_similar_images[i], idx2label[indices_of_similar_images[i]]) for i in range(len(distances))]\n",
    "\n",
    "    # Sort the results based on distances\n",
    "    ranked_results.sort(key=lambda x: x[0])\n",
    "\n",
    "    # Retrieve the top-k results\n",
    "    top_k_results = ranked_results[:top_k]\n",
    "\n",
    "    return top_k_results\n"
   ]
  },
  {
   "cell_type": "code",
   "execution_count": 84,
   "metadata": {
    "collapsed": false,
    "jupyter": {
     "outputs_hidden": false
    }
   },
   "outputs": [
    {
     "name": "stdout",
     "output_type": "stream",
     "text": [
      "Example data entry histogram shape: (768,)\n",
      "Example data entry label: 0\n"
     ]
    }
   ],
   "source": [
    "# Load the dataset images and extract features\n",
    "dataset_dir = \"Dataset2\"\n",
    "query_dir = \"QUERY_IMAGES\"\n",
    "\n",
    "# Dictionaries for accessing class names and indexes to be used later on\n",
    "label2idx = {\n",
    "    'airplane': 0,\n",
    "    'bear': 1,\n",
    "    'blimp': 2,\n",
    "    'bonsai': 3,\n",
    "    'cactus': 4,\n",
    "    'dog': 5,\n",
    "    'goat': 6,\n",
    "    'goose': 7,  # called goose in query_dir\n",
    "    'googse': 7,\n",
    "    'ibis': 8,\n",
    "    'iris': 9\n",
    "}\n",
    "idx2label = {v: k for k, v in label2idx.items()}\n",
    "\n",
    "# Set the target baseline size for resizing images to the same sizes\n",
    "target_height = 128\n",
    "target_width = 128\n",
    "\n",
    "# Create a list of tuples containing flattened histograms and class labels\n",
    "database_features = []\n",
    "\n",
    "# Reading dataset images\n",
    "for folder in os.listdir(dataset_dir):\n",
    "    if folder != query_dir:\n",
    "        for image_file in os.listdir(os.path.join(dataset_dir, folder)):\n",
    "            img = cv2.imread(os.path.join(dataset_dir, folder, image_file),cv2.COLOR_BGR2RGB)\n",
    "            img = cv2.resize(img,(target_width, target_height))\n",
    "            img_array = np.array(img)\n",
    "\n",
    "            # Extract color histograms\n",
    "            histogram_R, histogram_G, histogram_B = extract_color_histogram(img_array)\n",
    "            flattened_histogram = np.concatenate([histogram_R, histogram_G, histogram_B])\n",
    "\n",
    "            # Append tuple of flattened histogram and class label to the database_features list\n",
    "            database_features.append((flattened_histogram, label2idx[folder]))\n",
    "\n",
    "# Example format: a tuple with a 768-dimensional array for histogram at index 0 and the label at index 1.\n",
    "print(f\"Example data entry histogram shape: {database_features[0][0].shape}\")\n",
    "print(f\"Example data entry label: {database_features[0][1]}\")"
   ]
  },
  {
   "cell_type": "code",
   "execution_count": 85,
   "metadata": {
    "collapsed": false,
    "jupyter": {
     "outputs_hidden": false
    }
   },
   "outputs": [
    {
     "data": {
      "text/plain": "<Figure size 800x600 with 1 Axes>",
      "image/png": "[encoded data removed]"
     },
     "metadata": {},
     "output_type": "display_data"
    }
   ],
   "source": [
    "# Let's show an example histogram plot from a data\n",
    "data = database_features[0][0]\n",
    "\n",
    "fig, ax = plt.subplots(figsize=(8, 6))\n",
    "# Plot the histogram with customizations\n",
    "ax.hist(data, bins=256, color=\"#7eb8da\", edgecolor='black')  # Light blue color\n",
    "\n",
    "# Add labels and title\n",
    "ax.set_title(\"Example Histogram from Dataset\", fontsize=16, color=\"navy\")\n",
    "ax.set_xlabel(\"Values\", fontsize=12, color=\"navy\")\n",
    "ax.set_ylabel(\"Frequency\", fontsize=12, color=\"navy\")\n",
    "ax.set_facecolor(\"#f0f0f0\")\n",
    "ax.grid(True, linestyle='--', alpha=0.6)\n",
    "plt.savefig(\"example_histogram.jpg\")\n",
    "plt.show()"
   ]
  },
  {
   "cell_type": "code",
   "execution_count": 86,
   "metadata": {
    "collapsed": false,
    "jupyter": {
     "outputs_hidden": false
    }
   },
   "outputs": [
    {
     "name": "stdout",
     "output_type": "stream",
     "text": [
      "Example data entry histogram shape: (768,)\n",
      "Example data entry label: 0\n"
     ]
    }
   ],
   "source": [
    "# Load the query images and extract features\n",
    "query_features = []\n",
    "\n",
    "for filename in os.listdir(os.path.join(dataset_dir, query_dir)):\n",
    "    img = cv2.imread(os.path.join(dataset_dir, query_dir, filename),cv2.COLOR_BGR2RGB)\n",
    "    img = cv2.resize(img,(target_width, target_height))\n",
    "    img = np.array(img)\n",
    "\n",
    "    # Extract color histograms\n",
    "    histogram_R, histogram_G, histogram_B = extract_color_histogram(img)\n",
    "    flattened_histogram = np.concatenate([histogram_R, histogram_G, histogram_B])\n",
    "\n",
    "    # Extract class label from the filename (assuming filenames contain class information)\n",
    "    class_label = label2idx[filename.split('_')[0].lower()]  # Assuming filenames are in the format \"class_1.jpg\"\n",
    "\n",
    "    # Append tuple of flattened histogram and class label to the query_features list\n",
    "    query_features.append((flattened_histogram, class_label))\n",
    "\n",
    "# Example format: a tuple with a flattened 768-dimensional histogram at index 0 and the label at index 1.\n",
    "print(f\"Example data entry histogram shape: {query_features[0][0].shape}\")\n",
    "print(f\"Example data entry label: {query_features[0][1]}\")"
   ]
  },
  {
   "cell_type": "code",
   "execution_count": 87,
   "metadata": {
    "collapsed": false,
    "jupyter": {
     "outputs_hidden": false
    }
   },
   "outputs": [
    {
     "data": {
      "text/plain": "   query_label  ranked_1  ranked_2  ranked_3  ranked_4  ranked_5  ranked_6  \\\n0     airplane  airplane  airplane  airplane  airplane  airplane  airplane   \n1     airplane  airplane  airplane       dog  airplane      goat      ibis   \n2         bear    cactus      goat      goat    cactus    googse    cactus   \n3         bear    googse      bear      ibis      goat      goat      ibis   \n4        blimp      bear       dog  airplane    bonsai      ibis    googse   \n5        blimp       dog      bear    cactus    cactus    bonsai       dog   \n6       bonsai    bonsai  airplane  airplane  airplane  airplane       dog   \n7       bonsai    bonsai      iris    bonsai    cactus    cactus    cactus   \n8       cactus    cactus       dog      iris      bear      goat    googse   \n9       cactus    bonsai       dog      goat      goat    googse      goat   \n10         dog     blimp     blimp     blimp    bonsai    bonsai     blimp   \n11         dog      ibis    cactus    cactus    googse    cactus      iris   \n12        goat      iris    bonsai    cactus      iris      iris      ibis   \n13        goat       dog       dog      bear      iris      ibis      goat   \n14      googse    cactus      iris       dog      bear      goat      goat   \n15      googse      iris      iris      iris    bonsai    bonsai    cactus   \n16        ibis      goat      goat      goat      bear      goat      ibis   \n17        ibis    bonsai    bonsai      bear    googse      iris      iris   \n18        iris      iris      iris    cactus      iris      bear    bonsai   \n19        iris      iris    cactus    bonsai      goat      iris       dog   \n\n    ranked_7  ranked_8  ranked_9  ... ranked_291 ranked_292 ranked_293  \\\n0     bonsai  airplane  airplane  ...      blimp      blimp       iris   \n1       goat      goat       dog  ...     bonsai       iris      blimp   \n2       goat    cactus      goat  ...      blimp     bonsai     bonsai   \n3     googse       dog    googse  ...      blimp     bonsai     bonsai   \n4        dog      iris    cactus  ...     bonsai      blimp     bonsai   \n5       goat    googse      ibis  ...      blimp        dog     bonsai   \n6   airplane      ibis  airplane  ...   airplane      blimp      blimp   \n7     googse      goat      bear  ...     bonsai      blimp     bonsai   \n8     cactus      bear      goat  ...     bonsai      blimp     bonsai   \n9       iris      goat    cactus  ...        dog     bonsai     bonsai   \n10     blimp     blimp  airplane  ...       ibis       iris      blimp   \n11    googse    bonsai    cactus  ...      blimp     bonsai     bonsai   \n12    cactus  airplane    bonsai  ...      blimp     bonsai     bonsai   \n13    googse      bear      goat  ...     bonsai      blimp     bonsai   \n14       dog      bear    googse  ...      blimp     bonsai     bonsai   \n15      ibis      bear    googse  ...     bonsai      blimp     bonsai   \n16      bear    googse    cactus  ...      blimp     bonsai        dog   \n17    googse      iris       dog  ...      blimp     bonsai     bonsai   \n18      goat      goat    googse  ...     bonsai      blimp     bonsai   \n19    cactus      ibis      bear  ...     bonsai      blimp     bonsai   \n\n   ranked_294 ranked_295 ranked_296 ranked_297 ranked_298 ranked_299  \\\n0       blimp        dog      blimp     bonsai      blimp      blimp   \n1         dog      blimp      blimp     bonsai      blimp      blimp   \n2       blimp     bonsai      blimp      blimp      blimp      blimp   \n3       blimp     bonsai      blimp      blimp      blimp      blimp   \n4       blimp     bonsai      blimp      blimp      blimp      blimp   \n5       blimp      blimp     bonsai      blimp      blimp      blimp   \n6        iris      blimp        dog     bonsai      blimp      blimp   \n7       blimp     bonsai      blimp      blimp      blimp      blimp   \n8       blimp     bonsai      blimp      blimp      blimp      blimp   \n9       blimp     bonsai      blimp      blimp      blimp      blimp   \n10      blimp      blimp   airplane       iris        dog      blimp   \n11      blimp     bonsai      blimp      blimp      blimp      blimp   \n12      blimp     bonsai      blimp      blimp      blimp      blimp   \n13      blimp     bonsai      blimp      blimp      blimp      blimp   \n14      blimp     bonsai      blimp      blimp      blimp      blimp   \n15     bonsai      blimp      blimp      blimp      blimp      blimp   \n16      blimp      blimp     bonsai      blimp      blimp      blimp   \n17      blimp     bonsai      blimp      blimp      blimp      blimp   \n18     bonsai      blimp      blimp      blimp      blimp      blimp   \n19      blimp     bonsai      blimp      blimp      blimp      blimp   \n\n   ranked_300  \n0        iris  \n1        iris  \n2        iris  \n3        iris  \n4        iris  \n5        iris  \n6        iris  \n7        iris  \n8        iris  \n9        iris  \n10     bonsai  \n11       iris  \n12       iris  \n13       iris  \n14       iris  \n15       iris  \n16       iris  \n17       iris  \n18       iris  \n19       iris  \n\n[20 rows x 301 columns]",
      "text/html": "<div>\n<style scoped>\n    .dataframe tbody tr th:only-of-type {\n        vertical-align: middle;\n    }\n\n    .dataframe tbody tr th {\n        vertical-align: top;\n    }\n\n    .dataframe thead th {\n        text-align: right;\n    }\n</style>\n<table border=\"1\" class=\"dataframe\">\n  <thead>\n    <tr style=\"text-align: right;\">\n      <th></th>\n      <th>query_label</th>\n      <th>ranked_1</th>\n      <th>ranked_2</th>\n      <th>ranked_3</th>\n      <th>ranked_4</th>\n      <th>ranked_5</th>\n      <th>ranked_6</th>\n      <th>ranked_7</th>\n      <th>ranked_8</th>\n      <th>ranked_9</th>\n      <th>...</th>\n      <th>ranked_291</th>\n      <th>ranked_292</th>\n      <th>ranked_293</th>\n      <th>ranked_294</th>\n      <th>ranked_295</th>\n      <th>ranked_296</th>\n      <th>ranked_297</th>\n      <th>ranked_298</th>\n      <th>ranked_299</th>\n      <th>ranked_300</th>\n    </tr>\n  </thead>\n  <tbody>\n    <tr>\n      <th>0</th>\n      <td>airplane</td>\n      <td>airplane</td>\n      <td>airplane</td>\n      <td>airplane</td>\n      <td>airplane</td>\n      <td>airplane</td>\n      <td>airplane</td>\n      <td>bonsai</td>\n      <td>airplane</td>\n      <td>airplane</td>\n      <td>...</td>\n      <td>blimp</td>\n      <td>blimp</td>\n      <td>iris</td>\n      <td>blimp</td>\n      <td>dog</td>\n      <td>blimp</td>\n      <td>bonsai</td>\n      <td>blimp</td>\n      <td>blimp</td>\n      <td>iris</td>\n    </tr>\n    <tr>\n      <th>1</th>\n      <td>airplane</td>\n      <td>airplane</td>\n      <td>airplane</td>\n      <td>dog</td>\n      <td>airplane</td>\n      <td>goat</td>\n      <td>ibis</td>\n      <td>goat</td>\n      <td>goat</td>\n      <td>dog</td>\n      <td>...</td>\n      <td>bonsai</td>\n      <td>iris</td>\n      <td>blimp</td>\n      <td>dog</td>\n      <td>blimp</td>\n      <td>blimp</td>\n      <td>bonsai</td>\n      <td>blimp</td>\n      <td>blimp</td>\n      <td>iris</td>\n    </tr>\n    <tr>\n      <th>2</th>\n      <td>bear</td>\n      <td>cactus</td>\n      <td>goat</td>\n      <td>goat</td>\n      <td>cactus</td>\n      <td>googse</td>\n      <td>cactus</td>\n      <td>goat</td>\n      <td>cactus</td>\n      <td>goat</td>\n      <td>...</td>\n      <td>blimp</td>\n      <td>bonsai</td>\n      <td>bonsai</td>\n      <td>blimp</td>\n      <td>bonsai</td>\n      <td>blimp</td>\n      <td>blimp</td>\n      <td>blimp</td>\n      <td>blimp</td>\n      <td>iris</td>\n    </tr>\n    <tr>\n      <th>3</th>\n      <td>bear</td>\n      <td>googse</td>\n      <td>bear</td>\n      <td>ibis</td>\n      <td>goat</td>\n      <td>goat</td>\n      <td>ibis</td>\n      <td>googse</td>\n      <td>dog</td>\n      <td>googse</td>\n      <td>...</td>\n      <td>blimp</td>\n      <td>bonsai</td>\n      <td>bonsai</td>\n      <td>blimp</td>\n      <td>bonsai</td>\n      <td>blimp</td>\n      <td>blimp</td>\n      <td>blimp</td>\n      <td>blimp</td>\n      <td>iris</td>\n    </tr>\n    <tr>\n      <th>4</th>\n      <td>blimp</td>\n      <td>bear</td>\n      <td>dog</td>\n      <td>airplane</td>\n      <td>bonsai</td>\n      <td>ibis</td>\n      <td>googse</td>\n      <td>dog</td>\n      <td>iris</td>\n      <td>cactus</td>\n      <td>...</td>\n      <td>bonsai</td>\n      <td>blimp</td>\n      <td>bonsai</td>\n      <td>blimp</td>\n      <td>bonsai</td>\n      <td>blimp</td>\n      <td>blimp</td>\n      <td>blimp</td>\n      <td>blimp</td>\n      <td>iris</td>\n    </tr>\n    <tr>\n      <th>5</th>\n      <td>blimp</td>\n      <td>dog</td>\n      <td>bear</td>\n      <td>cactus</td>\n      <td>cactus</td>\n      <td>bonsai</td>\n      <td>dog</td>\n      <td>goat</td>\n      <td>googse</td>\n      <td>ibis</td>\n      <td>...</td>\n      <td>blimp</td>\n      <td>dog</td>\n      <td>bonsai</td>\n      <td>blimp</td>\n      <td>blimp</td>\n      <td>bonsai</td>\n      <td>blimp</td>\n      <td>blimp</td>\n      <td>blimp</td>\n      <td>iris</td>\n    </tr>\n    <tr>\n      <th>6</th>\n      <td>bonsai</td>\n      <td>bonsai</td>\n      <td>airplane</td>\n      <td>airplane</td>\n      <td>airplane</td>\n      <td>airplane</td>\n      <td>dog</td>\n      <td>airplane</td>\n      <td>ibis</td>\n      <td>airplane</td>\n      <td>...</td>\n      <td>airplane</td>\n      <td>blimp</td>\n      <td>blimp</td>\n      <td>iris</td>\n      <td>blimp</td>\n      <td>dog</td>\n      <td>bonsai</td>\n      <td>blimp</td>\n      <td>blimp</td>\n      <td>iris</td>\n    </tr>\n    <tr>\n      <th>7</th>\n      <td>bonsai</td>\n      <td>bonsai</td>\n      <td>iris</td>\n      <td>bonsai</td>\n      <td>cactus</td>\n      <td>cactus</td>\n      <td>cactus</td>\n      <td>googse</td>\n      <td>goat</td>\n      <td>bear</td>\n      <td>...</td>\n      <td>bonsai</td>\n      <td>blimp</td>\n      <td>bonsai</td>\n      <td>blimp</td>\n      <td>bonsai</td>\n      <td>blimp</td>\n      <td>blimp</td>\n      <td>blimp</td>\n      <td>blimp</td>\n      <td>iris</td>\n    </tr>\n    <tr>\n      <th>8</th>\n      <td>cactus</td>\n      <td>cactus</td>\n      <td>dog</td>\n      <td>iris</td>\n      <td>bear</td>\n      <td>goat</td>\n      <td>googse</td>\n      <td>cactus</td>\n      <td>bear</td>\n      <td>goat</td>\n      <td>...</td>\n      <td>bonsai</td>\n      <td>blimp</td>\n      <td>bonsai</td>\n      <td>blimp</td>\n      <td>bonsai</td>\n      <td>blimp</td>\n      <td>blimp</td>\n      <td>blimp</td>\n      <td>blimp</td>\n      <td>iris</td>\n    </tr>\n    <tr>\n      <th>9</th>\n      <td>cactus</td>\n      <td>bonsai</td>\n      <td>dog</td>\n      <td>goat</td>\n      <td>goat</td>\n      <td>googse</td>\n      <td>goat</td>\n      <td>iris</td>\n      <td>goat</td>\n      <td>cactus</td>\n      <td>...</td>\n      <td>dog</td>\n      <td>bonsai</td>\n      <td>bonsai</td>\n      <td>blimp</td>\n      <td>bonsai</td>\n      <td>blimp</td>\n      <td>blimp</td>\n      <td>blimp</td>\n      <td>blimp</td>\n      <td>iris</td>\n    </tr>\n    <tr>\n      <th>10</th>\n      <td>dog</td>\n      <td>blimp</td>\n      <td>blimp</td>\n      <td>blimp</td>\n      <td>bonsai</td>\n      <td>bonsai</td>\n      <td>blimp</td>\n      <td>blimp</td>\n      <td>blimp</td>\n      <td>airplane</td>\n      <td>...</td>\n      <td>ibis</td>\n      <td>iris</td>\n      <td>blimp</td>\n      <td>blimp</td>\n      <td>blimp</td>\n      <td>airplane</td>\n      <td>iris</td>\n      <td>dog</td>\n      <td>blimp</td>\n      <td>bonsai</td>\n    </tr>\n    <tr>\n      <th>11</th>\n      <td>dog</td>\n      <td>ibis</td>\n      <td>cactus</td>\n      <td>cactus</td>\n      <td>googse</td>\n      <td>cactus</td>\n      <td>iris</td>\n      <td>googse</td>\n      <td>bonsai</td>\n      <td>cactus</td>\n      <td>...</td>\n      <td>blimp</td>\n      <td>bonsai</td>\n      <td>bonsai</td>\n      <td>blimp</td>\n      <td>bonsai</td>\n      <td>blimp</td>\n      <td>blimp</td>\n      <td>blimp</td>\n      <td>blimp</td>\n      <td>iris</td>\n    </tr>\n    <tr>\n      <th>12</th>\n      <td>goat</td>\n      <td>iris</td>\n      <td>bonsai</td>\n      <td>cactus</td>\n      <td>iris</td>\n      <td>iris</td>\n      <td>ibis</td>\n      <td>cactus</td>\n      <td>airplane</td>\n      <td>bonsai</td>\n      <td>...</td>\n      <td>blimp</td>\n      <td>bonsai</td>\n      <td>bonsai</td>\n      <td>blimp</td>\n      <td>bonsai</td>\n      <td>blimp</td>\n      <td>blimp</td>\n      <td>blimp</td>\n      <td>blimp</td>\n      <td>iris</td>\n    </tr>\n    <tr>\n      <th>13</th>\n      <td>goat</td>\n      <td>dog</td>\n      <td>dog</td>\n      <td>bear</td>\n      <td>iris</td>\n      <td>ibis</td>\n      <td>goat</td>\n      <td>googse</td>\n      <td>bear</td>\n      <td>goat</td>\n      <td>...</td>\n      <td>bonsai</td>\n      <td>blimp</td>\n      <td>bonsai</td>\n      <td>blimp</td>\n      <td>bonsai</td>\n      <td>blimp</td>\n      <td>blimp</td>\n      <td>blimp</td>\n      <td>blimp</td>\n      <td>iris</td>\n    </tr>\n    <tr>\n      <th>14</th>\n      <td>googse</td>\n      <td>cactus</td>\n      <td>iris</td>\n      <td>dog</td>\n      <td>bear</td>\n      <td>goat</td>\n      <td>goat</td>\n      <td>dog</td>\n      <td>bear</td>\n      <td>googse</td>\n      <td>...</td>\n      <td>blimp</td>\n      <td>bonsai</td>\n      <td>bonsai</td>\n      <td>blimp</td>\n      <td>bonsai</td>\n      <td>blimp</td>\n      <td>blimp</td>\n      <td>blimp</td>\n      <td>blimp</td>\n      <td>iris</td>\n    </tr>\n    <tr>\n      <th>15</th>\n      <td>googse</td>\n      <td>iris</td>\n      <td>iris</td>\n      <td>iris</td>\n      <td>bonsai</td>\n      <td>bonsai</td>\n      <td>cactus</td>\n      <td>ibis</td>\n      <td>bear</td>\n      <td>googse</td>\n      <td>...</td>\n      <td>bonsai</td>\n      <td>blimp</td>\n      <td>bonsai</td>\n      <td>bonsai</td>\n      <td>blimp</td>\n      <td>blimp</td>\n      <td>blimp</td>\n      <td>blimp</td>\n      <td>blimp</td>\n      <td>iris</td>\n    </tr>\n    <tr>\n      <th>16</th>\n      <td>ibis</td>\n      <td>goat</td>\n      <td>goat</td>\n      <td>goat</td>\n      <td>bear</td>\n      <td>goat</td>\n      <td>ibis</td>\n      <td>bear</td>\n      <td>googse</td>\n      <td>cactus</td>\n      <td>...</td>\n      <td>blimp</td>\n      <td>bonsai</td>\n      <td>dog</td>\n      <td>blimp</td>\n      <td>blimp</td>\n      <td>bonsai</td>\n      <td>blimp</td>\n      <td>blimp</td>\n      <td>blimp</td>\n      <td>iris</td>\n    </tr>\n    <tr>\n      <th>17</th>\n      <td>ibis</td>\n      <td>bonsai</td>\n      <td>bonsai</td>\n      <td>bear</td>\n      <td>googse</td>\n      <td>iris</td>\n      <td>iris</td>\n      <td>googse</td>\n      <td>iris</td>\n      <td>dog</td>\n      <td>...</td>\n      <td>blimp</td>\n      <td>bonsai</td>\n      <td>bonsai</td>\n      <td>blimp</td>\n      <td>bonsai</td>\n      <td>blimp</td>\n      <td>blimp</td>\n      <td>blimp</td>\n      <td>blimp</td>\n      <td>iris</td>\n    </tr>\n    <tr>\n      <th>18</th>\n      <td>iris</td>\n      <td>iris</td>\n      <td>iris</td>\n      <td>cactus</td>\n      <td>iris</td>\n      <td>bear</td>\n      <td>bonsai</td>\n      <td>goat</td>\n      <td>goat</td>\n      <td>googse</td>\n      <td>...</td>\n      <td>bonsai</td>\n      <td>blimp</td>\n      <td>bonsai</td>\n      <td>bonsai</td>\n      <td>blimp</td>\n      <td>blimp</td>\n      <td>blimp</td>\n      <td>blimp</td>\n      <td>blimp</td>\n      <td>iris</td>\n    </tr>\n    <tr>\n      <th>19</th>\n      <td>iris</td>\n      <td>iris</td>\n      <td>cactus</td>\n      <td>bonsai</td>\n      <td>goat</td>\n      <td>iris</td>\n      <td>dog</td>\n      <td>cactus</td>\n      <td>ibis</td>\n      <td>bear</td>\n      <td>...</td>\n      <td>bonsai</td>\n      <td>blimp</td>\n      <td>bonsai</td>\n      <td>blimp</td>\n      <td>bonsai</td>\n      <td>blimp</td>\n      <td>blimp</td>\n      <td>blimp</td>\n      <td>blimp</td>\n      <td>iris</td>\n    </tr>\n  </tbody>\n</table>\n<p>20 rows × 301 columns</p>\n</div>"
     },
     "metadata": {},
     "output_type": "display_data"
    }
   ],
   "source": [
    "# Distance calculation and ranking indexes and labels of most similar images\n",
    "all_ranked_indices = []  # Ranked class indexes\n",
    "all_ranked_labels = []  # Ranked class indexes converted into labels\n",
    "all_distances = []  # Ranked distances\n",
    "\n",
    "# Iterate over each query image\n",
    "for query_item in query_features:\n",
    "    # Getting ranked results for the current query image\n",
    "    ranked_results = generate_ranked_list(query_data=[query_item], database_data=database_features, top_k=300)\n",
    "\n",
    "    # Extract distances, image indices, and class labels from the ranked results\n",
    "    distances = [result[0] for result in ranked_results]\n",
    "    image_indices = [result[1] for result in ranked_results]\n",
    "    image_labels = [result[2] for result in ranked_results]\n",
    "\n",
    "    # Append the extracted information for the current query image\n",
    "    all_ranked_indices.append(image_indices)\n",
    "    all_ranked_labels.append(image_labels)\n",
    "    all_distances.append(distances)\n",
    "\n",
    "# Convert the lists to NumPy arrays for further analysis\n",
    "all_ranked_indices = np.array(all_ranked_indices)\n",
    "all_ranked_labels = np.array(all_ranked_labels)\n",
    "all_distances = np.array(all_distances)\n",
    "# 'all_ranked_labels' now contains the class labels for the top-k retrieved images for each query\n",
    "\n",
    "\n",
    "# Create column names for the DataFrame\n",
    "column_names = [f\"ranked_{i + 1}\" for i in range(300)]\n",
    "df_all_ranked_labels = pd.DataFrame(all_ranked_labels, columns=column_names)\n",
    "\n",
    "# Add a column for the query image label\n",
    "query_labels = [idx2label.get(label) for _,label in query_features]\n",
    "df_all_ranked_labels.insert(0, 'query_label', query_labels)\n",
    "\n",
    "display(df_all_ranked_labels)"
   ]
  },
  {
   "cell_type": "code",
   "execution_count": 88,
   "metadata": {
    "collapsed": false,
    "jupyter": {
     "outputs_hidden": false
    }
   },
   "outputs": [],
   "source": [
    "def calculate_map(query_features, all_ranked_indices):\n",
    "    \"\"\"\n",
    "    Calculates Mean Average Precision (mAP) for a set of queries.\n",
    "\n",
    "    Parameters:\n",
    "    - query_features: List of tuples containing query features and labels.\n",
    "    - all_ranked_indices: NumPy array containing class labels' indices for the top-k retrieved images for each query.\n",
    "\n",
    "    Returns:\n",
    "    mAP: Mean Average Precision.\n",
    "    df_metrics_per_class:  Precision per classes\n",
    "    \"\"\"\n",
    "    precision_values = []\n",
    "\n",
    "    # Iterate over each query\n",
    "    for i in range(len(all_ranked_indices)):\n",
    "        actual = query_features[i][1]  # Assuming label is at index 1 of query_features\n",
    "        predicted = all_ranked_indices[i]\n",
    "\n",
    "        # Calculate precision for each query\n",
    "        precision_at_ranks = []\n",
    "        relevant_count = 0\n",
    "\n",
    "        for j, pred_label in enumerate(predicted):\n",
    "            if pred_label == actual:\n",
    "                relevant_count += 1\n",
    "                precision_at_ranks.append(relevant_count / (j + 1))  # Precision at the current rank\n",
    "\n",
    "        if not precision_at_ranks:\n",
    "            precision_at_ranks = [0]\n",
    "\n",
    "        precision_values.append(np.mean(precision_at_ranks))\n",
    "        print(f\"Query Image {i+1} mAP: {np.mean(precision_at_ranks)}\")\n",
    "\n",
    "    # Calculate Mean Average Precision (mAP)\n",
    "    mAP = np.mean(precision_values)\n",
    "\n",
    "    # Calculate Mean Average Precision (mAP) per class\n",
    "    precision_values = np.array(precision_values).reshape(10, 2)\n",
    "\n",
    "    precisions_per_class = np.mean(precision_values, axis=1)\n",
    "\n",
    "    # Get class labels using idx2label\n",
    "    class_labels = [idx2label[i] for i in range(len(idx2label))]\n",
    "\n",
    "    # Create a DataFrame for metrics per class\n",
    "    df_metrics_per_class = pd.DataFrame({\n",
    "        'Class': class_labels,\n",
    "        'Precision': precisions_per_class,\n",
    "    })\n",
    "    df_metrics_per_class = df_metrics_per_class.round(3)\n",
    "\n",
    "    return mAP, df_metrics_per_class\n",
    "\n"
   ]
  },
  {
   "cell_type": "code",
   "execution_count": 89,
   "metadata": {
    "collapsed": false,
    "jupyter": {
     "outputs_hidden": false
    }
   },
   "outputs": [
    {
     "name": "stdout",
     "output_type": "stream",
     "text": [
      "Query Image 1 mAP: 0.4658239696865618\n",
      "Query Image 2 mAP: 0.17159273888966642\n",
      "Query Image 3 mAP: 0.1107629170877334\n",
      "Query Image 4 mAP: 0.133516119082283\n",
      "Query Image 5 mAP: 0.06583415209100786\n",
      "Query Image 6 mAP: 0.06389262812808527\n",
      "Query Image 7 mAP: 0.1223310785908577\n",
      "Query Image 8 mAP: 0.1317855562523755\n",
      "Query Image 9 mAP: 0.18917595654051453\n",
      "Query Image 10 mAP: 0.12766561488734413\n",
      "Query Image 11 mAP: 0.1065711310252058\n",
      "Query Image 12 mAP: 0.1447701433415228\n",
      "Query Image 13 mAP: 0.15069142665258056\n",
      "Query Image 14 mAP: 0.17970959969814224\n",
      "Query Image 15 mAP: 0.16654548723102486\n",
      "Query Image 16 mAP: 0.1328568689896387\n",
      "Query Image 17 mAP: 0.10035591950794241\n",
      "Query Image 18 mAP: 0.09393267421476764\n",
      "Query Image 19 mAP: 0.23701692645568845\n",
      "Query Image 20 mAP: 0.1696068503063056\n"
     ]
    }
   ],
   "source": [
    "mAP, df_metrics_per_class = calculate_map(query_features,all_ranked_indices)"
   ]
  },
  {
   "cell_type": "code",
   "execution_count": 90,
   "metadata": {
    "collapsed": false,
    "jupyter": {
     "outputs_hidden": false
    }
   },
   "outputs": [
    {
     "name": "stdout",
     "output_type": "stream",
     "text": [
      "Mean Average Precision 0.1532\n",
      "---------------------------------\n",
      "Mean Average Precision Per Class\n"
     ]
    },
    {
     "data": {
      "text/plain": "      Class  Precision\n0  airplane      0.319\n1      bear      0.122\n2     blimp      0.065\n3    bonsai      0.127\n4    cactus      0.158\n5       dog      0.126\n6      goat      0.165\n7    googse      0.150\n8      ibis      0.097\n9      iris      0.203",
      "text/html": "<div>\n<style scoped>\n    .dataframe tbody tr th:only-of-type {\n        vertical-align: middle;\n    }\n\n    .dataframe tbody tr th {\n        vertical-align: top;\n    }\n\n    .dataframe thead th {\n        text-align: right;\n    }\n</style>\n<table border=\"1\" class=\"dataframe\">\n  <thead>\n    <tr style=\"text-align: right;\">\n      <th></th>\n      <th>Class</th>\n      <th>Precision</th>\n    </tr>\n  </thead>\n  <tbody>\n    <tr>\n      <th>0</th>\n      <td>airplane</td>\n      <td>0.319</td>\n    </tr>\n    <tr>\n      <th>1</th>\n      <td>bear</td>\n      <td>0.122</td>\n    </tr>\n    <tr>\n      <th>2</th>\n      <td>blimp</td>\n      <td>0.065</td>\n    </tr>\n    <tr>\n      <th>3</th>\n      <td>bonsai</td>\n      <td>0.127</td>\n    </tr>\n    <tr>\n      <th>4</th>\n      <td>cactus</td>\n      <td>0.158</td>\n    </tr>\n    <tr>\n      <th>5</th>\n      <td>dog</td>\n      <td>0.126</td>\n    </tr>\n    <tr>\n      <th>6</th>\n      <td>goat</td>\n      <td>0.165</td>\n    </tr>\n    <tr>\n      <th>7</th>\n      <td>googse</td>\n      <td>0.150</td>\n    </tr>\n    <tr>\n      <th>8</th>\n      <td>ibis</td>\n      <td>0.097</td>\n    </tr>\n    <tr>\n      <th>9</th>\n      <td>iris</td>\n      <td>0.203</td>\n    </tr>\n  </tbody>\n</table>\n</div>"
     },
     "metadata": {},
     "output_type": "display_data"
    }
   ],
   "source": [
    "print(f\"Mean Average Precision {mAP:.4f}\")\n",
    "print(\"---------------------------------\\nMean Average Precision Per Class\")\n",
    "display(df_metrics_per_class)"
   ]
  },
  {
   "cell_type": "markdown",
   "metadata": {
    "collapsed": false,
    "jupyter": {
     "outputs_hidden": false
    }
   },
   "source": [
    "### Kmeans Clustering"
   ]
  },
  {
   "cell_type": "code",
   "execution_count": 91,
   "metadata": {
    "collapsed": false,
    "jupyter": {
     "outputs_hidden": false
    }
   },
   "outputs": [
    {
     "name": "stdout",
     "output_type": "stream",
     "text": [
      "Silhouette Score for Database: 0.17765080919268708\n",
      "Silhouette Score for Query Features: 0.13274195109808318\n"
     ]
    }
   ],
   "source": [
    "# Extracting histogram features from database_features and query_features\n",
    "data_features_array = np.array([item[0] for item in database_features])\n",
    "query_features_array = np.array([item[0] for item in query_features])\n",
    "\n",
    "# Perform k-means clustering\n",
    "kmeans = KMeans(random_state=42)\n",
    "cluster_labels = kmeans.fit_predict(data_features_array)\n",
    "# Print silhouette score for dataset\n",
    "silhouette_avg = silhouette_score(data_features_array, cluster_labels)\n",
    "print(f'Silhouette Score for Database: {silhouette_avg}')\n",
    "\n",
    "# Predict cluster labels for query features using the trained K-Means model\n",
    "query_cluster_labels = kmeans.predict(query_features_array)\n",
    "\n",
    "silhouette_avg_query = silhouette_score(query_features_array, query_cluster_labels)\n",
    "print(f'Silhouette Score for Query Features: {silhouette_avg_query}')"
   ]
  },
  {
   "cell_type": "code",
   "execution_count": 92,
   "metadata": {
    "collapsed": false,
    "jupyter": {
     "outputs_hidden": false
    }
   },
   "outputs": [
    {
     "name": "stdout",
     "output_type": "stream",
     "text": [
      "Kmeans clustering found 8 clusters\n"
     ]
    }
   ],
   "source": [
    "print(f\"Kmeans clustering found {kmeans.n_clusters} clusters\")"
   ]
  },
  {
   "cell_type": "markdown",
   "metadata": {
    "collapsed": false,
    "jupyter": {
     "outputs_hidden": false
    }
   },
   "source": [
    "# Part 3"
   ]
  },
  {
   "cell_type": "code",
   "execution_count": 93,
   "metadata": {
    "collapsed": false,
    "jupyter": {
     "outputs_hidden": false
    }
   },
   "outputs": [],
   "source": [
    "# Creating One vs Rest logistic regression classifier, since we are dealing with a multiple-class classification problem.\n",
    "# We will have separate weights and biases for each class.\n",
    "\n",
    "class LogisticRegressionOvR:\n",
    "    def __init__(self, learning_rate=0.001, EPOCHS=1000):\n",
    "        \"\"\"\n",
    "        Initializes the logistic regression classifier.\n",
    "\n",
    "        Parameters:\n",
    "        - learning_rate: The learning rate for gradient descent (default is 0.001).\n",
    "        - EPOCHS: The number of training epochs (default is 1000).\n",
    "        \"\"\"\n",
    "        self.learning_rate = learning_rate\n",
    "        self.EPOCHS = EPOCHS\n",
    "        self.weights = None\n",
    "        self.bias = None\n",
    "        self.classifiers = {}  # Dictionary to store weights and biases for each class\n",
    "        self.losses = []  # List to store losses for each classifier\n",
    "\n",
    "    def sigmoid(self, z):\n",
    "        \"\"\"\n",
    "        Sigmoid activation function.\n",
    "\n",
    "        Parameters:\n",
    "        - z: Input value.\n",
    "\n",
    "        Returns:\n",
    "        Sigmoid of the input value.\n",
    "        \"\"\"\n",
    "        return 1 / (1 + np.exp(-z))\n",
    "\n",
    "    def fit(self, X, y):\n",
    "        \"\"\"\n",
    "        Fits the logistic regression model to the training data.\n",
    "\n",
    "        Parameters:\n",
    "        - X: Feature matrix.\n",
    "        - y: Target labels.\n",
    "        \"\"\"\n",
    "        num_samples, num_features = X.shape\n",
    "        self.weights = np.zeros((len(np.unique(y)), num_features))\n",
    "        self.bias = np.zeros(len(np.unique(y)))\n",
    "\n",
    "        for c in range(len(np.unique(y))):\n",
    "            binary_y = np.where(y == c, 1, 0)\n",
    "\n",
    "            for _ in range(self.EPOCHS):\n",
    "                linear_combination = np.dot(X, self.weights[c]) + self.bias[c]\n",
    "                predicted_probabilities = self.sigmoid(linear_combination)\n",
    "\n",
    "                # Compute gradients\n",
    "                dw = (1 / num_samples) * np.dot(X.T, (predicted_probabilities - binary_y))\n",
    "                db = (1 / num_samples) * np.sum(predicted_probabilities - binary_y)\n",
    "\n",
    "                # Update weights and bias\n",
    "                self.weights[c] -= self.learning_rate * dw\n",
    "                self.bias[c] -= self.learning_rate * db\n",
    "\n",
    "\n",
    "            self.classifiers[c] = (self.weights[c], self.bias[c])\n",
    "\n",
    "    def predict(self, X):\n",
    "        \"\"\"\n",
    "        Predicts class labels for input data.\n",
    "\n",
    "        Parameters:\n",
    "        - X: Feature matrix.\n",
    "\n",
    "        Returns:\n",
    "        Predicted class labels.\n",
    "        \"\"\"\n",
    "        predictions = []\n",
    "\n",
    "        for x in X:\n",
    "            class_scores = {}\n",
    "\n",
    "            # Calculate probability for each class\n",
    "            for c in self.classifiers:\n",
    "                weights, bias = self.classifiers[c]\n",
    "                linear_combination = np.dot(x, weights) + bias\n",
    "                probability = self.sigmoid(linear_combination)\n",
    "                class_scores[c] = probability\n",
    "\n",
    "            # Predict the class with the highest probability\n",
    "            predicted_class = max(class_scores, key=class_scores.get)\n",
    "            predictions.append(predicted_class)\n",
    "\n",
    "        return predictions\n"
   ]
  },
  {
   "cell_type": "code",
   "execution_count": 94,
   "metadata": {
    "collapsed": false,
    "jupyter": {
     "outputs_hidden": false
    }
   },
   "outputs": [],
   "source": [
    "# Preparing data\n",
    "\n",
    "# Training data\n",
    "X_train = []  # List to store flattened images\n",
    "y_train = []  # List to store class labels\n",
    "\n",
    "# Set the target baseline size for resizing images to the same sizes\n",
    "target_height = 64\n",
    "target_width = 128\n",
    "\n",
    "# Reading images from the dataset directory\n",
    "for class_folder in os.listdir(dataset_dir):\n",
    "    if class_folder != 'QUERY_IMAGES':\n",
    "        # Loop in the specified class folders to read images\n",
    "        for image_file in os.listdir(f'{dataset_dir}/{class_folder}'):\n",
    "            # Open and resize the image\n",
    "            img = Image.open(f'{dataset_dir}/{class_folder}/{image_file}')\n",
    "            img = img.resize((target_height, target_width))\n",
    "\n",
    "            # Flatten the image array and append to X_train\n",
    "            img = np.asarray(img).flatten()\n",
    "            X_train.append(img)\n",
    "\n",
    "            # Append the corresponding class label to y_train\n",
    "            y_train.append(class_folder)\n",
    "\n",
    "# Normalizing images to the range [0, 1]\n",
    "X_train = np.array(X_train) / 255.\n",
    "y_train = np.array([label2idx[i] for i in y_train])\n",
    "\n",
    "# Test data\n",
    "X_test = []  # List to store flattened images\n",
    "y_test = []  # List to store class labels\n",
    "\n",
    "# Loop in the QUERY_IMAGES folder to detect class folders\n",
    "for image_file in os.listdir(os.path.join(dataset_dir, query_dir)):\n",
    "    # Open and resize the image\n",
    "    img = Image.open(os.path.join(dataset_dir, query_dir, image_file))\n",
    "    img = img.resize((target_height, target_width))\n",
    "\n",
    "    # Flatten the image array and append to X_test\n",
    "    img = np.asarray(img).flatten()\n",
    "    X_test.append(img)\n",
    "\n",
    "    # Extract class label from the filename and append to y_test\n",
    "    y_test.append(image_file.split(\"_\")[0])\n",
    "\n",
    "# Normalizing images to the range [0, 1]\n",
    "X_test = np.array(X_test) / 255.\n",
    "y_test = np.array([label2idx[i] for i in y_test])"
   ]
  },
  {
   "cell_type": "code",
   "execution_count": 95,
   "metadata": {
    "collapsed": false,
    "jupyter": {
     "outputs_hidden": false
    }
   },
   "outputs": [
    {
     "name": "stdout",
     "output_type": "stream",
     "text": [
      "Training Data (X_train) Shape: (300, 24576)\n",
      "Training Labels (y_train) Shape: (300,)\n",
      "Test Data (X_test) Shape: (20, 24576)\n",
      "Test Labels (y_test) Shape: (20,)\n"
     ]
    }
   ],
   "source": [
    "print(\"Training Data (X_train) Shape:\", X_train.shape)\n",
    "print(\"Training Labels (y_train) Shape:\", y_train.shape)\n",
    "print(\"Test Data (X_test) Shape:\", X_test.shape)\n",
    "print(\"Test Labels (y_test) Shape:\", y_test.shape)\n"
   ]
  },
  {
   "cell_type": "code",
   "execution_count": 96,
   "metadata": {
    "collapsed": false,
    "jupyter": {
     "outputs_hidden": false
    }
   },
   "outputs": [
    {
     "name": "stdout",
     "output_type": "stream",
     "text": [
      "              precision    recall  f1-score   support\n",
      "\n",
      "    airplane       0.67      1.00      0.80         2\n",
      "        bear       0.33      0.50      0.40         2\n",
      "       blimp       0.50      0.50      0.50         2\n",
      "      bonsai       0.00      0.00      0.00         2\n",
      "      cactus       1.00      0.50      0.67         2\n",
      "         dog       0.00      0.00      0.00         2\n",
      "        goat       0.00      0.00      0.00         2\n",
      "      googse       0.00      0.00      0.00         2\n",
      "        ibis       0.50      1.00      0.67         2\n",
      "        iris       0.20      0.50      0.29         2\n",
      "\n",
      "    accuracy                           0.40        20\n",
      "   macro avg       0.32      0.40      0.33        20\n",
      "weighted avg       0.32      0.40      0.33        20\n",
      "\n"
     ]
    }
   ],
   "source": [
    "model = LogisticRegressionOvR(learning_rate=0.0001,EPOCHS=2000)\n",
    "model.fit(X_train, y_train)\n",
    "my_predictions = model.predict(X_test)\n",
    "print(classification_report(y_test, my_predictions, target_names=idx2label.values()))"
   ]
  },
  {
   "cell_type": "code",
   "execution_count": 97,
   "metadata": {
    "collapsed": false,
    "jupyter": {
     "outputs_hidden": false
    }
   },
   "outputs": [
    {
     "data": {
      "text/plain": "<Figure size 800x600 with 2 Axes>",
      "image/png": "[encoded data removed]"
     },
     "metadata": {},
     "output_type": "display_data"
    }
   ],
   "source": [
    "# Create confusion matrix\n",
    "conf_matrix = confusion_matrix(y_test, my_predictions)\n",
    "\n",
    "# Plot confusion matrix using Seaborn heatmap\n",
    "plt.figure(figsize=(8, 6))\n",
    "sns.heatmap(conf_matrix, annot=True, fmt=\"d\", cmap=\"Blues\", xticklabels=idx2label.values(), yticklabels=idx2label.values())\n",
    "plt.title(\"Confusion Matrix\")\n",
    "plt.xlabel(\"Predicted Labels\")\n",
    "plt.ylabel(\"True Labels\")\n",
    "plt.savefig(\"mymodel_confusion.jpg\")\n",
    "plt.show()"
   ]
  },
  {
   "cell_type": "markdown",
   "metadata": {
    "collapsed": false,
    "jupyter": {
     "outputs_hidden": false
    }
   },
   "source": [
    "### Comparing my model with Sklearn model"
   ]
  },
  {
   "cell_type": "code",
   "execution_count": 98,
   "metadata": {
    "collapsed": false,
    "jupyter": {
     "outputs_hidden": false
    }
   },
   "outputs": [
    {
     "name": "stdout",
     "output_type": "stream",
     "text": [
      "              precision    recall  f1-score   support\n",
      "\n",
      "    airplane       0.67      1.00      0.80         2\n",
      "        bear       1.00      0.50      0.67         2\n",
      "       blimp       1.00      0.50      0.67         2\n",
      "      bonsai       0.00      0.00      0.00         2\n",
      "      cactus       0.20      0.50      0.29         2\n",
      "         dog       0.00      0.00      0.00         2\n",
      "        goat       0.00      0.00      0.00         2\n",
      "      googse       0.00      0.00      0.00         2\n",
      "        ibis       0.00      0.00      0.00         2\n",
      "        iris       0.40      1.00      0.57         2\n",
      "\n",
      "    accuracy                           0.35        20\n",
      "   macro avg       0.33      0.35      0.30        20\n",
      "weighted avg       0.33      0.35      0.30        20\n",
      "\n"
     ]
    }
   ],
   "source": [
    "from sklearn.linear_model import LogisticRegression\n",
    "\n",
    "logreg = LogisticRegression(multi_class=\"ovr\",max_iter=2000)\n",
    "logreg.fit(X_train,y_train)\n",
    "\n",
    "sklearn_preds = logreg.predict(X_test)\n",
    "\n",
    "print(classification_report(y_test, sklearn_preds, target_names=idx2label.values()))"
   ]
  },
  {
   "cell_type": "code",
   "execution_count": 99,
   "metadata": {
    "collapsed": false,
    "jupyter": {
     "outputs_hidden": false
    }
   },
   "outputs": [
    {
     "data": {
      "text/plain": "<Figure size 800x600 with 2 Axes>",
      "image/png": "[encoded data removed]"
     },
     "metadata": {},
     "output_type": "display_data"
    }
   ],
   "source": [
    "# Create confusion matrix\n",
    "conf_matrix = confusion_matrix(y_test, sklearn_preds)\n",
    "\n",
    "# Plot confusion matrix using Seaborn heatmap\n",
    "plt.figure(figsize=(8, 6))\n",
    "sns.heatmap(conf_matrix, annot=True, fmt=\"d\", cmap=\"Blues\", xticklabels=idx2label.values(), yticklabels=idx2label.values())\n",
    "plt.title(\"Confusion Matrix\")\n",
    "plt.xlabel(\"Predicted Labels\")\n",
    "plt.ylabel(\"True Labels\")\n",
    "plt.savefig(\"sklearn_confusion.jpg\")\n",
    "plt.show()"
   ]
  },
  {
   "cell_type": "markdown",
   "metadata": {
    "collapsed": false,
    "jupyter": {
     "outputs_hidden": false
    }
   },
   "source": [
    "**Looks like they are similar not much difference due to the parameter init, tuning**"
   ]
  }
 ],
 "metadata": {
  "kernelspec": {
   "display_name": "Python 3 (ipykernel)",
   "language": "python",
   "name": "python3"
  },
  "language_info": {
   "codemirror_mode": {
    "name": "ipython",
    "version": 3
   },
   "file_extension": ".py",
   "mimetype": "text/x-python",
   "name": "python",
   "nbconvert_exporter": "python",
   "pygments_lexer": "ipython3",
   "version": "3.9.10"
  }
 },
 "nbformat": 4,
 "nbformat_minor": 4
}
